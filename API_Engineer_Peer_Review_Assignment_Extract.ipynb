{
 "cells": [
  {
   "cell_type": "markdown",
   "metadata": {},
   "source": [
    "<p style=\"text-align:center\">\n",
    "    <a href=\"https://skills.network/?utm_medium=Exinfluencer&utm_source=Exinfluencer&utm_content=000026UJ&utm_term=10006555&utm_id=NA-SkillsNetwork-Channel-SkillsNetworkCoursesIBMDeveloperSkillsNetworkPY0221ENSkillsNetwork899-2023-01-01\">\n",
    "    <img src=\"https://cf-courses-data.s3.us.cloud-object-storage.appdomain.cloud/assets/logos/SN_web_lightmode.png\" width=\"200\" alt=\"Skills Network Logo\"  />\n",
    "    </a>\n",
    "</p>\n"
   ]
  },
  {
   "cell_type": "markdown",
   "metadata": {},
   "source": [
    "# Peer Review Assignment - Data Engineer - Extract API Data\n"
   ]
  },
  {
   "cell_type": "markdown",
   "metadata": {},
   "source": [
    "Estimated time needed: **20** minutes\n"
   ]
  },
  {
   "cell_type": "markdown",
   "metadata": {},
   "source": [
    "## Objectives\n",
    "\n",
    "In this part you will:\n",
    "\n",
    "-   Collect exchange rate data using an API\n",
    "-   Store the data as a CSV\n"
   ]
  },
  {
   "cell_type": "markdown",
   "metadata": {},
   "source": [
    "For this lab, we are going to be using Python and several Python libraries. Some of these libraries might be installed in your lab environment or in SN Labs. Others may need to be installed by you. The cells below will install these libraries when executed.\n"
   ]
  },
  {
   "cell_type": "code",
   "execution_count": 2,
   "metadata": {
    "tags": []
   },
   "outputs": [],
   "source": [
    "#!mamba install pandas==1.3.3 -y\n",
    "#!mamba install requests==2.26.0 -y"
   ]
  },
  {
   "cell_type": "markdown",
   "metadata": {},
   "source": [
    "## Imports\n",
    "\n",
    "Import any additional libraries you may need here.\n"
   ]
  },
  {
   "cell_type": "code",
   "execution_count": 3,
   "metadata": {
    "tags": []
   },
   "outputs": [],
   "source": [
    "import requests\n",
    "import pandas as pd"
   ]
  },
  {
   "cell_type": "markdown",
   "metadata": {},
   "source": [
    "## Extract Data Using an API\n"
   ]
  },
  {
   "cell_type": "markdown",
   "metadata": {},
   "source": [
    "Using ExchangeRate-API we will extract currency exchange rate data. Use the below steps to get the access key and to get the data. \n",
    "1. Open the url : https://exchangeratesapi.io/ and click on **Get Free API Key**. \n",
    "2. Subscribe for Free plan and Sign-in with the Google Account. \n",
    "3. Once the account is created you will be redirected to https://apilayer.com website.\n",
    "2. Now, click on the **user icon** and click **Account** as shown below:\n",
    "\n",
    "<img src=\"https://cf-courses-data.s3.us.cloud-object-storage.appdomain.cloud/IBMDeveloperSkillsNetwork-PY0221EN-SkillsNetwork/labs/module%206/Final%20Assignment/Images/account.png\">\n",
    "\n",
    "3. Scroll down and you will get the API Key section. Copy the API key and use in the url in Question 1.\n"
   ]
  },
  {
   "cell_type": "markdown",
   "metadata": {},
   "source": [
    "### Call the API\n",
    "\n",
    " <b> Question 1</b> Using the `requests` library call the endpoint given above and save the text, remember the first few characters of the output: \n"
   ]
  },
  {
   "cell_type": "code",
   "execution_count": 52,
   "metadata": {
    "tags": []
   },
   "outputs": [],
   "source": [
    "# Write your code here\n",
    "url = \"http://api.exchangeratesapi.io/v1/latest?base=EUR&access_key=3ae8a41ae8b314fe2c76abee00969ef2\"  \n"
   ]
  },
  {
   "cell_type": "code",
   "execution_count": 53,
   "metadata": {
    "tags": []
   },
   "outputs": [
    {
     "data": {
      "text/plain": [
       "{'success': True,\n",
       " 'timestamp': 1692354903,\n",
       " 'base': 'EUR',\n",
       " 'date': '2023-08-18',\n",
       " 'rates': {'AED': 3.993227,\n",
       "  'AFN': 92.409405,\n",
       "  'ALL': 105.775523,\n",
       "  'AMD': 419.808472,\n",
       "  'ANG': 1.959064,\n",
       "  'AOA': 900.171486,\n",
       "  'ARS': 380.494012,\n",
       "  'AUD': 1.698839,\n",
       "  'AWG': 1.959612,\n",
       "  'AZN': 1.850139,\n",
       "  'BAM': 1.953318,\n",
       "  'BBD': 2.194711,\n",
       "  'BDT': 118.968802,\n",
       "  'BGN': 1.957921,\n",
       "  'BHD': 0.409837,\n",
       "  'BIF': 3079.933683,\n",
       "  'BMD': 1.087163,\n",
       "  'BND': 1.476937,\n",
       "  'BOB': 7.511661,\n",
       "  'BRL': 5.410699,\n",
       "  'BSD': 1.086949,\n",
       "  'BTC': 4.1051335e-05,\n",
       "  'BTN': 90.359255,\n",
       "  'BWP': 14.789612,\n",
       "  'BYN': 2.743613,\n",
       "  'BYR': 21308.401055,\n",
       "  'BZD': 2.191076,\n",
       "  'CAD': 1.472182,\n",
       "  'CDF': 2683.653459,\n",
       "  'CHF': 0.956644,\n",
       "  'CLF': 0.034081,\n",
       "  'CLP': 940.385396,\n",
       "  'CNY': 7.926836,\n",
       "  'COP': 4454.923491,\n",
       "  'CRC': 580.977665,\n",
       "  'CUC': 1.087163,\n",
       "  'CUP': 28.809828,\n",
       "  'CVE': 110.650851,\n",
       "  'CZK': 24.046973,\n",
       "  'DJF': 193.210778,\n",
       "  'DKK': 7.451602,\n",
       "  'DOP': 61.565841,\n",
       "  'DZD': 147.815368,\n",
       "  'EGP': 33.590639,\n",
       "  'ERN': 16.30745,\n",
       "  'ETB': 59.728526,\n",
       "  'EUR': 1,\n",
       "  'FJD': 2.470364,\n",
       "  'FKP': 0.852715,\n",
       "  'GBP': 0.853679,\n",
       "  'GEL': 2.84813,\n",
       "  'GGP': 0.852715,\n",
       "  'GHS': 12.26867,\n",
       "  'GIP': 0.852715,\n",
       "  'GMD': 65.827464,\n",
       "  'GNF': 9409.398341,\n",
       "  'GTQ': 8.53339,\n",
       "  'GYD': 227.41725,\n",
       "  'HKD': 8.51281,\n",
       "  'HNL': 26.755169,\n",
       "  'HRK': 7.482728,\n",
       "  'HTG': 147.288906,\n",
       "  'HUF': 383.964653,\n",
       "  'IDR': 16660.832224,\n",
       "  'ILS': 4.125105,\n",
       "  'IMP': 0.852715,\n",
       "  'INR': 90.334085,\n",
       "  'IQD': 1423.096785,\n",
       "  'IRR': 45959.829515,\n",
       "  'ISK': 143.701161,\n",
       "  'JEP': 0.852715,\n",
       "  'JMD': 168.140949,\n",
       "  'JOD': 0.769498,\n",
       "  'JPY': 158.18005,\n",
       "  'KES': 156.931795,\n",
       "  'KGS': 95.964174,\n",
       "  'KHR': 4495.420004,\n",
       "  'KMF': 491.938607,\n",
       "  'KPW': 978.411735,\n",
       "  'KRW': 1457.027185,\n",
       "  'KWD': 0.334705,\n",
       "  'KYD': 0.905874,\n",
       "  'KZT': 502.46528,\n",
       "  'LAK': 20938.765397,\n",
       "  'LBP': 16346.967456,\n",
       "  'LKR': 351.107006,\n",
       "  'LRD': 202.484034,\n",
       "  'LSL': 20.787014,\n",
       "  'LTL': 3.21011,\n",
       "  'LVL': 0.657614,\n",
       "  'LYD': 5.245543,\n",
       "  'MAD': 10.79225,\n",
       "  'MDL': 19.240079,\n",
       "  'MGA': 4854.184448,\n",
       "  'MKD': 61.531799,\n",
       "  'MMK': 2282.661944,\n",
       "  'MNT': 3775.398278,\n",
       "  'MOP': 8.765402,\n",
       "  'MRO': 388.117118,\n",
       "  'MUR': 49.355332,\n",
       "  'MVR': 16.715157,\n",
       "  'MWK': 1172.511708,\n",
       "  'MXN': 18.570709,\n",
       "  'MYR': 5.052592,\n",
       "  'MZN': 68.763334,\n",
       "  'NAD': 20.775581,\n",
       "  'NGN': 834.908787,\n",
       "  'NIO': 39.747039,\n",
       "  'NOK': 11.538031,\n",
       "  'NPR': 144.575248,\n",
       "  'NZD': 1.833898,\n",
       "  'OMR': 0.418554,\n",
       "  'PAB': 1.086949,\n",
       "  'PEN': 4.055663,\n",
       "  'PGK': 3.826676,\n",
       "  'PHP': 61.235572,\n",
       "  'PKR': 320.713727,\n",
       "  'PLN': 4.481742,\n",
       "  'PYG': 7900.177631,\n",
       "  'QAR': 3.958633,\n",
       "  'RON': 4.945722,\n",
       "  'RSD': 117.198741,\n",
       "  'RUB': 102.00962,\n",
       "  'RWF': 1289.919278,\n",
       "  'SAR': 4.077292,\n",
       "  'SBD': 9.099035,\n",
       "  'SCR': 14.732332,\n",
       "  'SDG': 653.305306,\n",
       "  'SEK': 11.92036,\n",
       "  'SGD': 1.47552,\n",
       "  'SHP': 1.322806,\n",
       "  'SLE': 24.369516,\n",
       "  'SLL': 21471.475974,\n",
       "  'SOS': 618.057811,\n",
       "  'SSP': 653.385215,\n",
       "  'SRD': 41.532901,\n",
       "  'STD': 22502.085732,\n",
       "  'SYP': 14241.413743,\n",
       "  'SZL': 20.775445,\n",
       "  'THB': 38.439376,\n",
       "  'TJS': 11.940654,\n",
       "  'TMT': 3.805072,\n",
       "  'TND': 3.355529,\n",
       "  'TOP': 2.598867,\n",
       "  'TRY': 29.472777,\n",
       "  'TTD': 7.370836,\n",
       "  'TWD': 34.72237,\n",
       "  'TZS': 2723.344518,\n",
       "  'UAH': 40.144488,\n",
       "  'UGX': 4057.842869,\n",
       "  'USD': 1.087163,\n",
       "  'UYU': 41.327477,\n",
       "  'UZS': 13127.497452,\n",
       "  'VEF': 3427056.792846,\n",
       "  'VES': 34.324152,\n",
       "  'VND': 25896.230261,\n",
       "  'VUV': 132.107353,\n",
       "  'WST': 3.026553,\n",
       "  'XAF': 655.142455,\n",
       "  'XAG': 0.047606,\n",
       "  'XAU': 0.000574,\n",
       "  'XCD': 2.938113,\n",
       "  'XDR': 0.814964,\n",
       "  'XOF': 653.384955,\n",
       "  'XPF': 119.832587,\n",
       "  'YER': 272.171805,\n",
       "  'ZAR': 20.749436,\n",
       "  'ZMK': 9785.775317,\n",
       "  'ZMW': 21.114748,\n",
       "  'ZWL': 350.066145}}"
      ]
     },
     "execution_count": 53,
     "metadata": {},
     "output_type": "execute_result"
    }
   ],
   "source": [
    "data=requests.get(url)\n",
    "data.json()"
   ]
  },
  {
   "cell_type": "markdown",
   "metadata": {},
   "source": [
    "### Save as DataFrame\n",
    "\n",
    " <b> Question 2</b>  Using the data gathered turn it into a `pandas` dataframe. The dataframe should have the Currency as the index and `Rate` as their columns. Make sure to drop unnecessary columns.\n"
   ]
  },
  {
   "cell_type": "code",
   "execution_count": 54,
   "metadata": {
    "tags": []
   },
   "outputs": [
    {
     "data": {
      "text/html": [
       "<div>\n",
       "<style scoped>\n",
       "    .dataframe tbody tr th:only-of-type {\n",
       "        vertical-align: middle;\n",
       "    }\n",
       "\n",
       "    .dataframe tbody tr th {\n",
       "        vertical-align: top;\n",
       "    }\n",
       "\n",
       "    .dataframe thead th {\n",
       "        text-align: right;\n",
       "    }\n",
       "</style>\n",
       "<table border=\"1\" class=\"dataframe\">\n",
       "  <thead>\n",
       "    <tr style=\"text-align: right;\">\n",
       "      <th></th>\n",
       "      <th>success</th>\n",
       "      <th>timestamp</th>\n",
       "      <th>base</th>\n",
       "      <th>date</th>\n",
       "      <th>rates</th>\n",
       "    </tr>\n",
       "  </thead>\n",
       "  <tbody>\n",
       "    <tr>\n",
       "      <th>AED</th>\n",
       "      <td>True</td>\n",
       "      <td>1692354903</td>\n",
       "      <td>EUR</td>\n",
       "      <td>2023-08-18</td>\n",
       "      <td>3.993227</td>\n",
       "    </tr>\n",
       "    <tr>\n",
       "      <th>AFN</th>\n",
       "      <td>True</td>\n",
       "      <td>1692354903</td>\n",
       "      <td>EUR</td>\n",
       "      <td>2023-08-18</td>\n",
       "      <td>92.409405</td>\n",
       "    </tr>\n",
       "    <tr>\n",
       "      <th>ALL</th>\n",
       "      <td>True</td>\n",
       "      <td>1692354903</td>\n",
       "      <td>EUR</td>\n",
       "      <td>2023-08-18</td>\n",
       "      <td>105.775523</td>\n",
       "    </tr>\n",
       "    <tr>\n",
       "      <th>AMD</th>\n",
       "      <td>True</td>\n",
       "      <td>1692354903</td>\n",
       "      <td>EUR</td>\n",
       "      <td>2023-08-18</td>\n",
       "      <td>419.808472</td>\n",
       "    </tr>\n",
       "    <tr>\n",
       "      <th>ANG</th>\n",
       "      <td>True</td>\n",
       "      <td>1692354903</td>\n",
       "      <td>EUR</td>\n",
       "      <td>2023-08-18</td>\n",
       "      <td>1.959064</td>\n",
       "    </tr>\n",
       "    <tr>\n",
       "      <th>...</th>\n",
       "      <td>...</td>\n",
       "      <td>...</td>\n",
       "      <td>...</td>\n",
       "      <td>...</td>\n",
       "      <td>...</td>\n",
       "    </tr>\n",
       "    <tr>\n",
       "      <th>YER</th>\n",
       "      <td>True</td>\n",
       "      <td>1692354903</td>\n",
       "      <td>EUR</td>\n",
       "      <td>2023-08-18</td>\n",
       "      <td>272.171805</td>\n",
       "    </tr>\n",
       "    <tr>\n",
       "      <th>ZAR</th>\n",
       "      <td>True</td>\n",
       "      <td>1692354903</td>\n",
       "      <td>EUR</td>\n",
       "      <td>2023-08-18</td>\n",
       "      <td>20.749436</td>\n",
       "    </tr>\n",
       "    <tr>\n",
       "      <th>ZMK</th>\n",
       "      <td>True</td>\n",
       "      <td>1692354903</td>\n",
       "      <td>EUR</td>\n",
       "      <td>2023-08-18</td>\n",
       "      <td>9785.775317</td>\n",
       "    </tr>\n",
       "    <tr>\n",
       "      <th>ZMW</th>\n",
       "      <td>True</td>\n",
       "      <td>1692354903</td>\n",
       "      <td>EUR</td>\n",
       "      <td>2023-08-18</td>\n",
       "      <td>21.114748</td>\n",
       "    </tr>\n",
       "    <tr>\n",
       "      <th>ZWL</th>\n",
       "      <td>True</td>\n",
       "      <td>1692354903</td>\n",
       "      <td>EUR</td>\n",
       "      <td>2023-08-18</td>\n",
       "      <td>350.066145</td>\n",
       "    </tr>\n",
       "  </tbody>\n",
       "</table>\n",
       "<p>170 rows × 5 columns</p>\n",
       "</div>"
      ],
      "text/plain": [
       "     success   timestamp base        date        rates\n",
       "AED     True  1692354903  EUR  2023-08-18     3.993227\n",
       "AFN     True  1692354903  EUR  2023-08-18    92.409405\n",
       "ALL     True  1692354903  EUR  2023-08-18   105.775523\n",
       "AMD     True  1692354903  EUR  2023-08-18   419.808472\n",
       "ANG     True  1692354903  EUR  2023-08-18     1.959064\n",
       "..       ...         ...  ...         ...          ...\n",
       "YER     True  1692354903  EUR  2023-08-18   272.171805\n",
       "ZAR     True  1692354903  EUR  2023-08-18    20.749436\n",
       "ZMK     True  1692354903  EUR  2023-08-18  9785.775317\n",
       "ZMW     True  1692354903  EUR  2023-08-18    21.114748\n",
       "ZWL     True  1692354903  EUR  2023-08-18   350.066145\n",
       "\n",
       "[170 rows x 5 columns]"
      ]
     },
     "execution_count": 54,
     "metadata": {},
     "output_type": "execute_result"
    }
   ],
   "source": [
    "# Turn the data into a dataframe\n",
    "dataframe=pd.DataFrame(data.json())\n",
    "dataframe"
   ]
  },
  {
   "cell_type": "code",
   "execution_count": 55,
   "metadata": {
    "tags": []
   },
   "outputs": [
    {
     "data": {
      "text/html": [
       "<div>\n",
       "<style scoped>\n",
       "    .dataframe tbody tr th:only-of-type {\n",
       "        vertical-align: middle;\n",
       "    }\n",
       "\n",
       "    .dataframe tbody tr th {\n",
       "        vertical-align: top;\n",
       "    }\n",
       "\n",
       "    .dataframe thead th {\n",
       "        text-align: right;\n",
       "    }\n",
       "</style>\n",
       "<table border=\"1\" class=\"dataframe\">\n",
       "  <thead>\n",
       "    <tr style=\"text-align: right;\">\n",
       "      <th></th>\n",
       "      <th>rates</th>\n",
       "    </tr>\n",
       "  </thead>\n",
       "  <tbody>\n",
       "    <tr>\n",
       "      <th>AED</th>\n",
       "      <td>3.993227</td>\n",
       "    </tr>\n",
       "    <tr>\n",
       "      <th>AFN</th>\n",
       "      <td>92.409405</td>\n",
       "    </tr>\n",
       "    <tr>\n",
       "      <th>ALL</th>\n",
       "      <td>105.775523</td>\n",
       "    </tr>\n",
       "    <tr>\n",
       "      <th>AMD</th>\n",
       "      <td>419.808472</td>\n",
       "    </tr>\n",
       "    <tr>\n",
       "      <th>ANG</th>\n",
       "      <td>1.959064</td>\n",
       "    </tr>\n",
       "    <tr>\n",
       "      <th>...</th>\n",
       "      <td>...</td>\n",
       "    </tr>\n",
       "    <tr>\n",
       "      <th>YER</th>\n",
       "      <td>272.171805</td>\n",
       "    </tr>\n",
       "    <tr>\n",
       "      <th>ZAR</th>\n",
       "      <td>20.749436</td>\n",
       "    </tr>\n",
       "    <tr>\n",
       "      <th>ZMK</th>\n",
       "      <td>9785.775317</td>\n",
       "    </tr>\n",
       "    <tr>\n",
       "      <th>ZMW</th>\n",
       "      <td>21.114748</td>\n",
       "    </tr>\n",
       "    <tr>\n",
       "      <th>ZWL</th>\n",
       "      <td>350.066145</td>\n",
       "    </tr>\n",
       "  </tbody>\n",
       "</table>\n",
       "<p>170 rows × 1 columns</p>\n",
       "</div>"
      ],
      "text/plain": [
       "           rates\n",
       "AED     3.993227\n",
       "AFN    92.409405\n",
       "ALL   105.775523\n",
       "AMD   419.808472\n",
       "ANG     1.959064\n",
       "..           ...\n",
       "YER   272.171805\n",
       "ZAR    20.749436\n",
       "ZMK  9785.775317\n",
       "ZMW    21.114748\n",
       "ZWL   350.066145\n",
       "\n",
       "[170 rows x 1 columns]"
      ]
     },
     "execution_count": 55,
     "metadata": {},
     "output_type": "execute_result"
    }
   ],
   "source": [
    "# Drop unnescessary columns\n",
    "dataframe.drop(columns=[\"success\",\"timestamp\",\"base\",\"date\"],inplace=True)\n",
    "dataframe"
   ]
  },
  {
   "cell_type": "code",
   "execution_count": null,
   "metadata": {},
   "outputs": [],
   "source": [
    "dataframe.head"
   ]
  },
  {
   "cell_type": "markdown",
   "metadata": {},
   "source": []
  },
  {
   "cell_type": "raw",
   "metadata": {},
   "source": []
  },
  {
   "cell_type": "code",
   "execution_count": null,
   "metadata": {},
   "outputs": [],
   "source": []
  },
  {
   "cell_type": "markdown",
   "metadata": {},
   "source": [
    "### Load the Data\n",
    "\n",
    "Using the dataframe save it as a CSV names `exchange_rates_1.csv`.\n"
   ]
  },
  {
   "cell_type": "code",
   "execution_count": 35,
   "metadata": {
    "tags": []
   },
   "outputs": [],
   "source": [
    "dataframe.to_csv(\"exchange_rates_1.csv\")\n"
   ]
  },
  {
   "cell_type": "markdown",
   "metadata": {},
   "source": [
    "Your CSV should be in this format with more currencies\n",
    "\n",
    "| | Rates |\n",
    "| ------- | ------- |\n",
    "|  AED| 4.398618    |\n",
    "|  AFN| 92.917693   |  \n",
    "|  ALL| 123.099093  |\n",
    "|  AMD| 621.935674  |\n",
    "|  ANG| 2.149648    | \n"
   ]
  },
  {
   "cell_type": "code",
   "execution_count": 49,
   "metadata": {
    "tags": []
   },
   "outputs": [
    {
     "data": {
      "text/html": [
       "<div>\n",
       "<style scoped>\n",
       "    .dataframe tbody tr th:only-of-type {\n",
       "        vertical-align: middle;\n",
       "    }\n",
       "\n",
       "    .dataframe tbody tr th {\n",
       "        vertical-align: top;\n",
       "    }\n",
       "\n",
       "    .dataframe thead th {\n",
       "        text-align: right;\n",
       "    }\n",
       "</style>\n",
       "<table border=\"1\" class=\"dataframe\">\n",
       "  <thead>\n",
       "    <tr style=\"text-align: right;\">\n",
       "      <th></th>\n",
       "      <th>Unnamed: 0</th>\n",
       "      <th>rates</th>\n",
       "    </tr>\n",
       "  </thead>\n",
       "  <tbody>\n",
       "    <tr>\n",
       "      <th>0</th>\n",
       "      <td>AED</td>\n",
       "      <td>3.991269</td>\n",
       "    </tr>\n",
       "    <tr>\n",
       "      <th>1</th>\n",
       "      <td>AFN</td>\n",
       "      <td>92.364587</td>\n",
       "    </tr>\n",
       "    <tr>\n",
       "      <th>2</th>\n",
       "      <td>ALL</td>\n",
       "      <td>105.725026</td>\n",
       "    </tr>\n",
       "    <tr>\n",
       "      <th>3</th>\n",
       "      <td>AMD</td>\n",
       "      <td>419.607390</td>\n",
       "    </tr>\n",
       "    <tr>\n",
       "      <th>4</th>\n",
       "      <td>ANG</td>\n",
       "      <td>1.958128</td>\n",
       "    </tr>\n",
       "    <tr>\n",
       "      <th>...</th>\n",
       "      <td>...</td>\n",
       "      <td>...</td>\n",
       "    </tr>\n",
       "    <tr>\n",
       "      <th>165</th>\n",
       "      <td>YER</td>\n",
       "      <td>272.041426</td>\n",
       "    </tr>\n",
       "    <tr>\n",
       "      <th>166</th>\n",
       "      <td>ZAR</td>\n",
       "      <td>20.816015</td>\n",
       "    </tr>\n",
       "    <tr>\n",
       "      <th>167</th>\n",
       "      <td>ZMK</td>\n",
       "      <td>9781.097801</td>\n",
       "    </tr>\n",
       "    <tr>\n",
       "      <th>168</th>\n",
       "      <td>ZMW</td>\n",
       "      <td>21.104652</td>\n",
       "    </tr>\n",
       "    <tr>\n",
       "      <th>169</th>\n",
       "      <td>ZWL</td>\n",
       "      <td>349.898770</td>\n",
       "    </tr>\n",
       "  </tbody>\n",
       "</table>\n",
       "<p>170 rows × 2 columns</p>\n",
       "</div>"
      ],
      "text/plain": [
       "    Unnamed: 0        rates\n",
       "0          AED     3.991269\n",
       "1          AFN    92.364587\n",
       "2          ALL   105.725026\n",
       "3          AMD   419.607390\n",
       "4          ANG     1.958128\n",
       "..         ...          ...\n",
       "165        YER   272.041426\n",
       "166        ZAR    20.816015\n",
       "167        ZMK  9781.097801\n",
       "168        ZMW    21.104652\n",
       "169        ZWL   349.898770\n",
       "\n",
       "[170 rows x 2 columns]"
      ]
     },
     "execution_count": 49,
     "metadata": {},
     "output_type": "execute_result"
    }
   ],
   "source": [
    "dataframe = pd.read_csv(\"exchange_rates_1.csv\")\n",
    "dataframe.to_json()\n",
    "dataframe\n",
    "\n",
    "    "
   ]
  },
  {
   "cell_type": "markdown",
   "metadata": {},
   "source": [
    "## Authors\n"
   ]
  },
  {
   "cell_type": "code",
   "execution_count": null,
   "metadata": {},
   "outputs": [],
   "source": [
    "def transform(hdata):\n",
    "    data['rate'] = round(data.rate,2)"
   ]
  },
  {
   "cell_type": "markdown",
   "metadata": {},
   "source": [
    "Ramesh Sannareddy, Joseph Santarcangelo and Azim Hirjani\n"
   ]
  },
  {
   "cell_type": "markdown",
   "metadata": {},
   "source": [
    "### Other Contributors\n"
   ]
  },
  {
   "cell_type": "markdown",
   "metadata": {},
   "source": [
    "Rav Ahuja\n"
   ]
  },
  {
   "cell_type": "markdown",
   "metadata": {},
   "source": [
    "## Change Log\n"
   ]
  },
  {
   "cell_type": "markdown",
   "metadata": {},
   "source": [
    "| Date (YYYY-MM-DD) | Version | Changed By        | Change Description                 |\n",
    "| ----------------- | ------- | ----------------- | ---------------------------------- |\n",
    "| 2022-05-06        | 0.3     | Malika            | Updated instructions to get the API and the url|\n",
    "| 2021-04-15        | 0.2     | Malika            | Updated the lab from USD to EUR    |\n",
    "| 2020-11-25        | 0.1     | Ramesh Sannareddy | Created initial version of the lab |\n"
   ]
  },
  {
   "cell_type": "markdown",
   "metadata": {},
   "source": [
    " Copyright © 2020 IBM Corporation. This notebook and its source code are released under the terms of the [MIT License](https://cognitiveclass.ai/mit-license?utm_medium=Exinfluencer&utm_source=Exinfluencer&utm_content=000026UJ&utm_term=10006555&utm_id=NA-SkillsNetwork-Channel-SkillsNetworkCoursesIBMDeveloperSkillsNetworkPY0221ENSkillsNetwork899-2023-01-01&cm_mmc=Email_Newsletter-_-Developer_Ed%2BTech-_-WW_WW-_-SkillsNetwork-Courses-IBM-DA0321EN-SkillsNetwork-21426264&cm_mmca1=000026UJ&cm_mmca2=10006555&cm_mmca3=M12345678&cvosrc=email.Newsletter.M12345678&cvo_campaign=000026UJ).\n"
   ]
  }
 ],
 "metadata": {
  "kernelspec": {
   "display_name": "Python",
   "language": "python",
   "name": "conda-env-python-py"
  },
  "language_info": {
   "codemirror_mode": {
    "name": "ipython",
    "version": 3
   },
   "file_extension": ".py",
   "mimetype": "text/x-python",
   "name": "python",
   "nbconvert_exporter": "python",
   "pygments_lexer": "ipython3",
   "version": "3.7.12"
  }
 },
 "nbformat": 4,
 "nbformat_minor": 4
}
